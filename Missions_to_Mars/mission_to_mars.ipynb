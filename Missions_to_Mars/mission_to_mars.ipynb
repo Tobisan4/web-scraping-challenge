{
 "cells": [
  {
   "cell_type": "code",
   "execution_count": 1,
   "id": "d2c47f32",
   "metadata": {},
   "outputs": [],
   "source": [
    "# Import Dependencies\n",
    "from splinter import Browser\n",
    "from bs4 import BeautifulSoup\n",
    "from webdriver_manager.chrome import ChromeDriverManager\n",
    "import pandas as pd\n",
    "from time import sleep "
   ]
  },
  {
   "cell_type": "code",
   "execution_count": 2,
   "id": "e0ce8549",
   "metadata": {},
   "outputs": [
    {
     "name": "stderr",
     "output_type": "stream",
     "text": [
      "\n",
      "\n",
      "====== WebDriver manager ======\n",
      "Current google-chrome version is 99.0.4844\n",
      "Get LATEST chromedriver version for 99.0.4844 google-chrome\n",
      "Trying to download new driver from https://chromedriver.storage.googleapis.com/99.0.4844.51/chromedriver_win32.zip\n",
      "Driver has been saved in cache [C:\\Users\\tomsa\\.wdm\\drivers\\chromedriver\\win32\\99.0.4844.51]\n"
     ]
    }
   ],
   "source": [
    "# Setup splinter\n",
    "executable_path = {\"executable_path\": ChromeDriverManager().install()}\n",
    "browser = Browser(\"chrome\", **executable_path, headless = False)"
   ]
  },
  {
   "cell_type": "code",
   "execution_count": 3,
   "id": "95064524",
   "metadata": {},
   "outputs": [],
   "source": [
    "### NASA Mars News"
   ]
  },
  {
   "cell_type": "code",
   "execution_count": 4,
   "id": "4108688c",
   "metadata": {},
   "outputs": [],
   "source": [
    "## Scrape for the latest News Title and Paragraph Text\n",
    "\n",
    "# Open the target url\n",
    "url_1 = \"https://redplanetscience.com/\"\n",
    "browser.visit(url_1)\n",
    "sleep(3)\n",
    "# HTML object\n",
    "html = browser.html\n",
    "# Parse HTML with Beautiful Soup\n",
    "news_soup = BeautifulSoup(html, \"html.parser\")"
   ]
  },
  {
   "cell_type": "code",
   "execution_count": 5,
   "id": "dcfc85dd",
   "metadata": {},
   "outputs": [
    {
     "name": "stdout",
     "output_type": "stream",
     "text": [
      "NASA Wins Two Emmy Awards for Interactive Mission Coverage\n",
      "NASA-JPL's coverage of the Mars InSight landing earns one of the two wins, making this the NASA center's second Emmy.\n"
     ]
    }
   ],
   "source": [
    "# Create lists that will hold the scraped information\n",
    "titles = []\n",
    "paragraphs = []\n",
    "# Retrieve all the elements that contain the News Title and Paragraph Text\n",
    "articles = news_soup.find_all(\"div\", class_ = \"list_text\")\n",
    "# Iterate through each element and save the latest data to a list\n",
    "for article in articles:\n",
    "    try:\n",
    "        titles.append(article.find(\"div\", class_ = \"content_title\").text)\n",
    "        paragraphs.append(article.find(\"div\", class_ = \"article_teaser_body\").text)\n",
    "    except:\n",
    "        print(\"Ooops something happened!\")\n",
    "# Save and display the first entree in the News Title list\n",
    "news_title = titles[0]\n",
    "print(news_title)\n",
    "# Save and display the first entree in the News Paragraph list\n",
    "news_paragraph = paragraphs[0]\n",
    "print(news_paragraph)"
   ]
  },
  {
   "cell_type": "code",
   "execution_count": 6,
   "id": "86e217b2",
   "metadata": {},
   "outputs": [],
   "source": [
    "### JPL Mars Space Images - Featured Image"
   ]
  },
  {
   "cell_type": "code",
   "execution_count": 7,
   "id": "6f50f371",
   "metadata": {},
   "outputs": [],
   "source": [
    "## Find the image url for the current Featured Mars Image and assign the url string to a variable\n",
    "\n",
    "# Open the target url\n",
    "url_2 = \"https://spaceimages-mars.com/\"\n",
    "browser.visit(url_2)\n",
    "sleep(3)\n",
    "# HTML object\n",
    "html = browser.html\n",
    "# Parse HTML with Beautiful Soup\n",
    "image_soup = BeautifulSoup(html, \"html.parser\")"
   ]
  },
  {
   "cell_type": "code",
   "execution_count": 8,
   "id": "a4dfe89a",
   "metadata": {},
   "outputs": [
    {
     "name": "stdout",
     "output_type": "stream",
     "text": [
      "featured image url: https://spaceimages-mars.com/image/featured/mars2.jpg\n"
     ]
    }
   ],
   "source": [
    "# Retrieve all the elements that contains the  featured picture\n",
    "featured_picture = image_soup.find_all(\"a\", class_ = \"showimg fancybox-thumbs\")\n",
    "# Iterate through each element and save the url to a variable\n",
    "for picture in featured_picture:\n",
    "    try:\n",
    "        href = picture[\"href\"]\n",
    "        featured_image_url = url_2 + href\n",
    "    except:\n",
    "        print(\"Ooops something happened!\")\n",
    "# Display the url for the current Featured Mars Image\n",
    "print(f\"featured image url: {featured_image_url}\")  "
   ]
  },
  {
   "cell_type": "code",
   "execution_count": 9,
   "id": "e0639408",
   "metadata": {},
   "outputs": [],
   "source": [
    "### Mars Facts"
   ]
  },
  {
   "cell_type": "code",
   "execution_count": 10,
   "id": "a3ed6961",
   "metadata": {},
   "outputs": [],
   "source": [
    "##  Use Pandas to scrape the table containing facts about the planet\n",
    "\n",
    "# Open the target url\n",
    "url_3 = \"https://galaxyfacts-mars.com/\"\n",
    "browser.visit(url_3)\n",
    "sleep(3)"
   ]
  },
  {
   "cell_type": "code",
   "execution_count": 11,
   "id": "d4869d5d",
   "metadata": {},
   "outputs": [
    {
     "name": "stdout",
     "output_type": "stream",
     "text": [
      "                                    Mars            Earth\n",
      "Description                                              \n",
      "Mars - Earth Comparison             Mars            Earth\n",
      "Diameter:                       6,779 km        12,742 km\n",
      "Mass:                    6.39 × 10^23 kg  5.97 × 10^24 kg\n",
      "Moons:                                 2                1\n",
      "Distance from Sun:        227,943,824 km   149,598,262 km\n",
      "Length of Year:           687 Earth days      365.24 days\n",
      "Temperature:                -87 to -5 °C      -88 to 58°C\n"
     ]
    }
   ],
   "source": [
    "# Scrape all the tabular data from the webpage and save to a list\n",
    "facts_tables = pd.read_html(url_3)\n",
    "# From the tables list, select and save to a dataframe the element that contains the comparison stats between Mars and Earth\n",
    "facts_table_df = facts_tables[0]\n",
    "# Create a dictionary that contains the column headers\n",
    "facts_table_dict = {\n",
    "    0 : \"Description\",\n",
    "    1 : \"Mars\",\n",
    "    2 : \"Earth\"\n",
    "}\n",
    "# Rename the column headers based on the dictionary\n",
    "facts_table_df.rename(columns = facts_table_dict, inplace = True)\n",
    "# Set the \"Description\" column as index\n",
    "facts_table_df.set_index(\"Description\", drop = True, inplace = True)\n",
    "# Display the dataframe\n",
    "print(facts_table_df)"
   ]
  },
  {
   "cell_type": "code",
   "execution_count": 12,
   "id": "4d068ae2",
   "metadata": {},
   "outputs": [
    {
     "name": "stdout",
     "output_type": "stream",
     "text": [
      "<table border=\"1\" class=\"dataframe\">\n",
      "  <thead>\n",
      "    <tr style=\"text-align: right;\">\n",
      "      <th></th>\n",
      "      <th>Mars</th>\n",
      "      <th>Earth</th>\n",
      "    </tr>\n",
      "    <tr>\n",
      "      <th>Description</th>\n",
      "      <th></th>\n",
      "      <th></th>\n",
      "    </tr>\n",
      "  </thead>\n",
      "  <tbody>\n",
      "    <tr>\n",
      "      <th>Mars - Earth Comparison</th>\n",
      "      <td>Mars</td>\n",
      "      <td>Earth</td>\n",
      "    </tr>\n",
      "    <tr>\n",
      "      <th>Diameter:</th>\n",
      "      <td>6,779 km</td>\n",
      "      <td>12,742 km</td>\n",
      "    </tr>\n",
      "    <tr>\n",
      "      <th>Mass:</th>\n",
      "      <td>6.39 × 10^23 kg</td>\n",
      "      <td>5.97 × 10^24 kg</td>\n",
      "    </tr>\n",
      "    <tr>\n",
      "      <th>Moons:</th>\n",
      "      <td>2</td>\n",
      "      <td>1</td>\n",
      "    </tr>\n",
      "    <tr>\n",
      "      <th>Distance from Sun:</th>\n",
      "      <td>227,943,824 km</td>\n",
      "      <td>149,598,262 km</td>\n",
      "    </tr>\n",
      "    <tr>\n",
      "      <th>Length of Year:</th>\n",
      "      <td>687 Earth days</td>\n",
      "      <td>365.24 days</td>\n",
      "    </tr>\n",
      "    <tr>\n",
      "      <th>Temperature:</th>\n",
      "      <td>-87 to -5 °C</td>\n",
      "      <td>-88 to 58°C</td>\n",
      "    </tr>\n",
      "  </tbody>\n",
      "</table>\n"
     ]
    }
   ],
   "source": [
    "# Generate the HTML table from the dataframe\n",
    "facts_table_html = facts_table_df.to_html()\n",
    "# Display the HTML table\n",
    "print(facts_table_html)"
   ]
  },
  {
   "cell_type": "code",
   "execution_count": 13,
   "id": "ac9c41e0",
   "metadata": {},
   "outputs": [],
   "source": [
    "### Mars Hemispheres"
   ]
  },
  {
   "cell_type": "code",
   "execution_count": 14,
   "id": "f3c79135",
   "metadata": {},
   "outputs": [],
   "source": [
    "## Scrape to obtain high resolution images for each of Mar's hemispheres\n",
    "\n",
    "# Open the target url\n",
    "url_4 = \"https://marshemispheres.com/\"\n",
    "browser.visit(url_4)\n",
    "sleep(3)\n",
    "# HTML object\n",
    "html = browser.html\n",
    "# Parse HTML with Beautiful Soup\n",
    "hs_soup = BeautifulSoup(html, \"html.parser\")"
   ]
  },
  {
   "cell_type": "code",
   "execution_count": 15,
   "id": "766f3d31",
   "metadata": {},
   "outputs": [
    {
     "name": "stdout",
     "output_type": "stream",
     "text": [
      "[{'title': 'Cerberus Hemisphere Enhanced', 'img_url': 'https://marshemispheres.com/images/f5e372a36edfa389625da6d0cc25d905_cerberus_enhanced.tif_full.jpg'}, {'title': 'Schiaparelli Hemisphere Enhanced', 'img_url': 'https://marshemispheres.com/images/3778f7b43bbbc89d6e3cfabb3613ba93_schiaparelli_enhanced.tif_full.jpg'}, {'title': 'Syrtis Major Hemisphere Enhanced', 'img_url': 'https://marshemispheres.com/images/555e6403a6ddd7ba16ddb0e471cadcf7_syrtis_major_enhanced.tif_full.jpg'}, {'title': 'Valles Marineris Hemisphere Enhanced', 'img_url': 'https://marshemispheres.com/images/b3c7c6c9138f57b4756be9b9c43e3a48_valles_marineris_enhanced.tif_full.jpg'}]\n"
     ]
    }
   ],
   "source": [
    "# Retrieve all the elements that contains the links to each of Mar's hemispheres and save to a list\n",
    "hemispheres = hs_soup.body.find_all(\"div\", class_ = \"description\")\n",
    "# Create a list that will hold the titles and urls of the different Mar's hemispheres\n",
    "hs_data = []\n",
    "# Iterate through each element and save the picture title and urls to a dictionary\n",
    "for hemisphere in hemispheres:\n",
    "    try:\n",
    "        # Create dictionary that will hold the image titles and urls\n",
    "        hs_dict = {}\n",
    "        # Save the image's title to a variable\n",
    "        hs_title = hemisphere.find(\"h3\").text\n",
    "        sleep(2)\n",
    "        # Click on the link to the image url\n",
    "        browser.links.find_by_partial_text(hs_title).click()\n",
    "        sleep(2)\n",
    "        # HTML object\n",
    "        html = browser.html\n",
    "        # Parse HTML with Beautiful Soup\n",
    "        link_soup = BeautifulSoup(html, \"html.parser\")\n",
    "        # Save the image url to a variable\n",
    "        hs_image = link_soup.find(\"img\", class_ = \"wide-image\")[\"src\"]\n",
    "        img_url = url_4 + hs_image\n",
    "        # Save the title and image url to the dictionary\n",
    "        hs_dict = {\n",
    "            \"title\" : hs_title, \n",
    "            \"img_url\" : img_url\n",
    "        }\n",
    "        # Append the dictionary information to the Hemisphere's Data list\n",
    "        hs_data.append(hs_dict)\n",
    "        # Direct the browser to go back to the previous page\n",
    "        browser.back()\n",
    "    except:\n",
    "        print(\"Ooops something happened!\")\n",
    "# Display the list containing the Hemisphere data\n",
    "print(hs_data)"
   ]
  },
  {
   "cell_type": "code",
   "execution_count": 16,
   "id": "b7ad52fe",
   "metadata": {},
   "outputs": [],
   "source": [
    "# Close the browser\n",
    "browser.quit()"
   ]
  },
  {
   "cell_type": "code",
   "execution_count": 17,
   "id": "2e9af8fc",
   "metadata": {},
   "outputs": [
    {
     "name": "stdout",
     "output_type": "stream",
     "text": [
      "{'news_title': 'NASA Wins Two Emmy Awards for Interactive Mission Coverage', 'news_paragraph': \"NASA-JPL's coverage of the Mars InSight landing earns one of the two wins, making this the NASA center's second Emmy.\", 'featured_image_url': 'https://spaceimages-mars.com/image/featured/mars2.jpg', 'html_table': '<table border=\"1\" class=\"dataframe\">\\n  <thead>\\n    <tr style=\"text-align: right;\">\\n      <th></th>\\n      <th>Mars</th>\\n      <th>Earth</th>\\n    </tr>\\n    <tr>\\n      <th>Description</th>\\n      <th></th>\\n      <th></th>\\n    </tr>\\n  </thead>\\n  <tbody>\\n    <tr>\\n      <th>Mars - Earth Comparison</th>\\n      <td>Mars</td>\\n      <td>Earth</td>\\n    </tr>\\n    <tr>\\n      <th>Diameter:</th>\\n      <td>6,779 km</td>\\n      <td>12,742 km</td>\\n    </tr>\\n    <tr>\\n      <th>Mass:</th>\\n      <td>6.39 × 10^23 kg</td>\\n      <td>5.97 × 10^24 kg</td>\\n    </tr>\\n    <tr>\\n      <th>Moons:</th>\\n      <td>2</td>\\n      <td>1</td>\\n    </tr>\\n    <tr>\\n      <th>Distance from Sun:</th>\\n      <td>227,943,824 km</td>\\n      <td>149,598,262 km</td>\\n    </tr>\\n    <tr>\\n      <th>Length of Year:</th>\\n      <td>687 Earth days</td>\\n      <td>365.24 days</td>\\n    </tr>\\n    <tr>\\n      <th>Temperature:</th>\\n      <td>-87 to -5 °C</td>\\n      <td>-88 to 58°C</td>\\n    </tr>\\n  </tbody>\\n</table>', 'hs_data': [{'title': 'Cerberus Hemisphere Enhanced', 'img_url': 'https://marshemispheres.com/images/f5e372a36edfa389625da6d0cc25d905_cerberus_enhanced.tif_full.jpg'}, {'title': 'Schiaparelli Hemisphere Enhanced', 'img_url': 'https://marshemispheres.com/images/3778f7b43bbbc89d6e3cfabb3613ba93_schiaparelli_enhanced.tif_full.jpg'}, {'title': 'Syrtis Major Hemisphere Enhanced', 'img_url': 'https://marshemispheres.com/images/555e6403a6ddd7ba16ddb0e471cadcf7_syrtis_major_enhanced.tif_full.jpg'}, {'title': 'Valles Marineris Hemisphere Enhanced', 'img_url': 'https://marshemispheres.com/images/b3c7c6c9138f57b4756be9b9c43e3a48_valles_marineris_enhanced.tif_full.jpg'}]}\n"
     ]
    }
   ],
   "source": [
    "# Store all the Mars data to a dictionary\n",
    "mission_mars_data = {\n",
    "        \"news_title\" : news_title,\n",
    "        \"news_paragraph\" : news_paragraph,\n",
    "        \"featured_image_url\" : featured_image_url,\n",
    "        \"html_table\" : facts_table_html,\n",
    "        \"hs_data\" : hs_data\n",
    "}\n",
    "# Display the dictionary containing the Mars data\n",
    "print(mission_mars_data)"
   ]
  },
  {
   "cell_type": "code",
   "execution_count": null,
   "id": "7200aef3",
   "metadata": {},
   "outputs": [],
   "source": []
  }
 ],
 "metadata": {
  "kernelspec": {
   "display_name": "Python 3 (ipykernel)",
   "language": "python",
   "name": "python3"
  },
  "language_info": {
   "codemirror_mode": {
    "name": "ipython",
    "version": 3
   },
   "file_extension": ".py",
   "mimetype": "text/x-python",
   "name": "python",
   "nbconvert_exporter": "python",
   "pygments_lexer": "ipython3",
   "version": "3.9.7"
  }
 },
 "nbformat": 4,
 "nbformat_minor": 5
}
